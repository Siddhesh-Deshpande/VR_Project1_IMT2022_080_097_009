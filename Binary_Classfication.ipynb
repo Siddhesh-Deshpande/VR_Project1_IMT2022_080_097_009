{
  "cells": [
    {
      "cell_type": "code",
      "execution_count": 1,
      "metadata": {
        "id": "C419JyvKcKfy"
      },
      "outputs": [],
      "source": [
        "import os\n",
        "import cv2\n",
        "import numpy as np\n",
        "import tensorflow as tf\n",
        "from tensorflow.keras import layers, models\n",
        "from skimage.feature import hog\n",
        "from sklearn.model_selection import train_test_split\n",
        "from sklearn.preprocessing import StandardScaler\n",
        "from sklearn.metrics import accuracy_score\n",
        "import torch\n",
        "import torchvision\n",
        "from torch.utils.data import random_split\n",
        "from torchvision.datasets import ImageFolder\n",
        "from torchvision import transforms\n",
        "%matplotlib inline\n",
        "\n",
        "import warnings\n",
        "warnings.filterwarnings(\"ignore\")"
      ]
    },
    {
      "cell_type": "code",
      "execution_count": 2,
      "metadata": {
        "id": "Hd2p32cOcKfz"
      },
      "outputs": [],
      "source": [
        "transform = transforms.Compose([\n",
        "    transforms.Resize((224, 224)),\n",
        "    transforms.RandomHorizontalFlip(p=0.5),  # Flip images randomly\n",
        "    transforms.RandomRotation(10),  # Slight rotation\n",
        "    transforms.ColorJitter(brightness=0.2, contrast=0.2),  # Improve color robustness\n",
        "    transforms.ToTensor(),\n",
        "    transforms.Normalize(mean=[0.5], std=[0.5])  # Normalize pixel values\n",
        "])"
      ]
    },
    {
      "cell_type": "code",
      "source": [
        "from google.colab import drive\n",
        "drive.mount('/content/drive')"
      ],
      "metadata": {
        "id": "yNLIrkZncgMx",
        "colab": {
          "base_uri": "https://localhost:8080/"
        },
        "outputId": "aecfa8ba-9c79-48d7-f7bc-a53d652f4d87"
      },
      "execution_count": 3,
      "outputs": [
        {
          "output_type": "stream",
          "name": "stdout",
          "text": [
            "Drive already mounted at /content/drive; to attempt to forcibly remount, call drive.mount(\"/content/drive\", force_remount=True).\n"
          ]
        }
      ]
    },
    {
      "cell_type": "code",
      "execution_count": 4,
      "metadata": {
        "id": "ZC0t_V6icKf0"
      },
      "outputs": [],
      "source": [
        "dataset = ImageFolder('/content/drive/MyDrive/dataset',transform)"
      ]
    },
    {
      "cell_type": "markdown",
      "source": [
        "Here we begin with the part (a) classification using traditional ML classifiers we use HOG for feature extraction."
      ],
      "metadata": {
        "id": "ZIPacLECUCiR"
      }
    },
    {
      "cell_type": "code",
      "source": [
        "mask_dir = \"/content/drive/MyDrive/dataset/with_mask\"\n",
        "no_mask_dir = \"/content/drive/MyDrive/dataset/without_mask\"\n",
        "def extract_hog_features(image):\n",
        "    gray = cv2.cvtColor(image, cv2.COLOR_BGR2GRAY)\n",
        "    features, _ = hog(gray, pixels_per_cell=(8, 8), cells_per_block=(2, 2),\n",
        "                      block_norm='L2-Hys', visualize=True)\n",
        "    return features\n",
        "\n",
        "# Function to Load Dataset and Extract Features\n",
        "def load_dataset():\n",
        "    X, y = [], []\n",
        "\n",
        "    for file in os.listdir(mask_dir):\n",
        "        img_path = os.path.join(mask_dir, file)\n",
        "        img = cv2.imread(img_path)\n",
        "        img = cv2.resize(img, (64, 64))\n",
        "        X.append(extract_hog_features(img))\n",
        "        y.append(1)  # 1 for 'with mask'\n",
        "\n",
        "    for file in os.listdir(no_mask_dir):\n",
        "        img_path = os.path.join(no_mask_dir, file)\n",
        "        img = cv2.imread(img_path)\n",
        "        img = cv2.resize(img, (64, 64))\n",
        "        X.append(extract_hog_features(img))\n",
        "        y.append(0)  # 0 for 'without mask'\n",
        "\n",
        "    return np.array(X), np.array(y)\n",
        "\n",
        "# Load dataset\n",
        "X, y = load_dataset()\n",
        "\n",
        "# Standardize Features\n",
        "scaler = StandardScaler()\n",
        "X_scaled = scaler.fit_transform(X)\n",
        "\n",
        "# Split Data into Training and Testing Sets\n",
        "X_train, X_test, y_train, y_test = train_test_split(X_scaled, y, test_size=0.2, random_state=42)"
      ],
      "metadata": {
        "id": "SojTxhm3Us73"
      },
      "execution_count": 5,
      "outputs": []
    },
    {
      "cell_type": "markdown",
      "source": [
        "Neural Network"
      ],
      "metadata": {
        "id": "RGJ2IKYzUTMH"
      }
    },
    {
      "cell_type": "code",
      "source": [
        "import tensorflow as tf\n",
        "from tensorflow.keras import models, layers\n",
        "from sklearn.metrics import classification_report\n",
        "\n",
        "# Get the number of features for input shape\n",
        "input_shape = (X_train.shape[1],)  # Dynamically update input shape\n",
        "\n",
        "# Define ANN Model\n",
        "ann = models.Sequential([\n",
        "    layers.Input(shape=input_shape),  # Specify input shape\n",
        "    layers.Dense(64, activation='relu'),   # First hidden layer\n",
        "    layers.Dense(32, activation='relu'),   # Second hidden layer\n",
        "    layers.Dense(2, activation='softmax')  # Output layer for binary classification\n",
        "])\n",
        "\n",
        "# Compile the Model\n",
        "ann.compile(\n",
        "    optimizer='adam',\n",
        "    loss='sparse_categorical_crossentropy',\n",
        "    metrics=['accuracy']\n",
        ")\n",
        "\n",
        "# Train the Model\n",
        "ann.fit(X_train, y_train, epochs=10, validation_data=(X_test, y_test))\n",
        "\n",
        "# Generate Predictions\n",
        "y_pred_probs = ann.predict(X_test)  # Get predicted probabilities\n",
        "y_pred = y_pred_probs.argmax(axis=1)  # Convert to class labels\n",
        "\n",
        "# Print Classification Report\n",
        "print(classification_report(y_test, y_pred))\n"
      ],
      "metadata": {
        "colab": {
          "base_uri": "https://localhost:8080/"
        },
        "id": "wOZtC_h4Sj5m",
        "outputId": "79ad1485-dfb2-4025-9175-aa478c517a29"
      },
      "execution_count": 6,
      "outputs": [
        {
          "output_type": "stream",
          "name": "stdout",
          "text": [
            "Epoch 1/10\n",
            "\u001b[1m103/103\u001b[0m \u001b[32m━━━━━━━━━━━━━━━━━━━━\u001b[0m\u001b[37m\u001b[0m \u001b[1m5s\u001b[0m 16ms/step - accuracy: 0.8100 - loss: 0.4047 - val_accuracy: 0.9121 - val_loss: 0.1917\n",
            "Epoch 2/10\n",
            "\u001b[1m103/103\u001b[0m \u001b[32m━━━━━━━━━━━━━━━━━━━━\u001b[0m\u001b[37m\u001b[0m \u001b[1m0s\u001b[0m 3ms/step - accuracy: 0.9704 - loss: 0.0862 - val_accuracy: 0.9219 - val_loss: 0.1854\n",
            "Epoch 3/10\n",
            "\u001b[1m103/103\u001b[0m \u001b[32m━━━━━━━━━━━━━━━━━━━━\u001b[0m\u001b[37m\u001b[0m \u001b[1m0s\u001b[0m 4ms/step - accuracy: 0.9926 - loss: 0.0345 - val_accuracy: 0.9231 - val_loss: 0.1878\n",
            "Epoch 4/10\n",
            "\u001b[1m103/103\u001b[0m \u001b[32m━━━━━━━━━━━━━━━━━━━━\u001b[0m\u001b[37m\u001b[0m \u001b[1m1s\u001b[0m 5ms/step - accuracy: 0.9989 - loss: 0.0123 - val_accuracy: 0.9292 - val_loss: 0.1888\n",
            "Epoch 5/10\n",
            "\u001b[1m103/103\u001b[0m \u001b[32m━━━━━━━━━━━━━━━━━━━━\u001b[0m\u001b[37m\u001b[0m \u001b[1m0s\u001b[0m 4ms/step - accuracy: 0.9998 - loss: 0.0039 - val_accuracy: 0.9280 - val_loss: 0.2047\n",
            "Epoch 6/10\n",
            "\u001b[1m103/103\u001b[0m \u001b[32m━━━━━━━━━━━━━━━━━━━━\u001b[0m\u001b[37m\u001b[0m \u001b[1m1s\u001b[0m 5ms/step - accuracy: 1.0000 - loss: 0.0029 - val_accuracy: 0.9243 - val_loss: 0.2161\n",
            "Epoch 7/10\n",
            "\u001b[1m103/103\u001b[0m \u001b[32m━━━━━━━━━━━━━━━━━━━━\u001b[0m\u001b[37m\u001b[0m \u001b[1m1s\u001b[0m 5ms/step - accuracy: 1.0000 - loss: 0.0012 - val_accuracy: 0.9231 - val_loss: 0.2225\n",
            "Epoch 8/10\n",
            "\u001b[1m103/103\u001b[0m \u001b[32m━━━━━━━━━━━━━━━━━━━━\u001b[0m\u001b[37m\u001b[0m \u001b[1m0s\u001b[0m 3ms/step - accuracy: 1.0000 - loss: 8.7624e-04 - val_accuracy: 0.9243 - val_loss: 0.2262\n",
            "Epoch 9/10\n",
            "\u001b[1m103/103\u001b[0m \u001b[32m━━━━━━━━━━━━━━━━━━━━\u001b[0m\u001b[37m\u001b[0m \u001b[1m1s\u001b[0m 4ms/step - accuracy: 1.0000 - loss: 6.3233e-04 - val_accuracy: 0.9243 - val_loss: 0.2329\n",
            "Epoch 10/10\n",
            "\u001b[1m103/103\u001b[0m \u001b[32m━━━━━━━━━━━━━━━━━━━━\u001b[0m\u001b[37m\u001b[0m \u001b[1m1s\u001b[0m 3ms/step - accuracy: 1.0000 - loss: 4.9498e-04 - val_accuracy: 0.9231 - val_loss: 0.2389\n",
            "\u001b[1m26/26\u001b[0m \u001b[32m━━━━━━━━━━━━━━━━━━━━\u001b[0m\u001b[37m\u001b[0m \u001b[1m0s\u001b[0m 8ms/step\n",
            "              precision    recall  f1-score   support\n",
            "\n",
            "           0       0.90      0.93      0.92       366\n",
            "           1       0.94      0.92      0.93       453\n",
            "\n",
            "    accuracy                           0.92       819\n",
            "   macro avg       0.92      0.92      0.92       819\n",
            "weighted avg       0.92      0.92      0.92       819\n",
            "\n"
          ]
        }
      ]
    },
    {
      "cell_type": "markdown",
      "source": [
        "SVM"
      ],
      "metadata": {
        "id": "0Lf7UeGUVExQ"
      }
    },
    {
      "cell_type": "code",
      "source": [
        "from sklearn.svm import SVC\n",
        "from sklearn.model_selection import GridSearchCV\n",
        "from sklearn.metrics import classification_report\n",
        "\n",
        "# Define Hyperparameter Grid for SVM\n",
        "param_grid = {\n",
        "    'C': [0.1, 1, 10],\n",
        "    'kernel': ['linear', 'rbf', 'poly'],\n",
        "    'gamma': ['scale', 'auto', 0.01, 0.1]\n",
        "}\n",
        "\n",
        "# Perform GridSearchCV to Find Best SVM Parameters\n",
        "svm_clf = GridSearchCV(SVC(), param_grid, cv=3, scoring='accuracy', n_jobs=-1, verbose=2)\n",
        "svm_clf.fit(X_train, y_train)\n",
        "\n",
        "# Predict using Best SVM Model\n",
        "y_pred_svm = svm_clf.best_estimator_.predict(X_test)\n",
        "\n",
        "# Print Classification Report\n",
        "print(classification_report(y_test, y_pred_svm))\n"
      ],
      "metadata": {
        "colab": {
          "base_uri": "https://localhost:8080/"
        },
        "id": "o1zlWo3kUdKB",
        "outputId": "3bfa10d9-10ed-42f0-96f2-b2d837ba0a1d"
      },
      "execution_count": 7,
      "outputs": [
        {
          "output_type": "stream",
          "name": "stdout",
          "text": [
            "Fitting 3 folds for each of 36 candidates, totalling 108 fits\n",
            "              precision    recall  f1-score   support\n",
            "\n",
            "           0       0.93      0.94      0.93       366\n",
            "           1       0.95      0.94      0.95       453\n",
            "\n",
            "    accuracy                           0.94       819\n",
            "   macro avg       0.94      0.94      0.94       819\n",
            "weighted avg       0.94      0.94      0.94       819\n",
            "\n"
          ]
        }
      ]
    },
    {
      "cell_type": "markdown",
      "source": [
        "Random Forest"
      ],
      "metadata": {
        "id": "VUleR6ehVHVW"
      }
    },
    {
      "cell_type": "code",
      "source": [
        "from sklearn.ensemble import RandomForestClassifier\n",
        "from sklearn.model_selection import GridSearchCV\n",
        "from sklearn.metrics import classification_report\n",
        "\n",
        "# Define Hyperparameter Grid for Random Forest\n",
        "param_grid = {\n",
        "    'n_estimators': [50, 100, 200],  # Number of trees\n",
        "    'max_depth': [None, 10, 20],     # Maximum depth of trees\n",
        "    'min_samples_split': [2, 5, 10], # Minimum samples required to split\n",
        "    'min_samples_leaf': [1, 2, 4]    # Minimum samples per leaf\n",
        "}\n",
        "\n",
        "# Perform GridSearchCV to Find Best Parameters\n",
        "rf_clf = GridSearchCV(RandomForestClassifier(), param_grid, cv=3, scoring='accuracy', n_jobs=-1, verbose=2)\n",
        "rf_clf.fit(X_train, y_train)\n",
        "\n",
        "# Predict using Best Random Forest Model\n",
        "y_pred_rf = rf_clf.best_estimator_.predict(X_test)\n",
        "\n",
        "# Print Classification Report\n",
        "print(classification_report(y_test, y_pred_rf))\n"
      ],
      "metadata": {
        "colab": {
          "base_uri": "https://localhost:8080/"
        },
        "id": "DrSpY1CaVJuK",
        "outputId": "3d00af43-8f66-4050-b956-77055815011e"
      },
      "execution_count": 8,
      "outputs": [
        {
          "output_type": "stream",
          "name": "stdout",
          "text": [
            "Fitting 3 folds for each of 81 candidates, totalling 243 fits\n",
            "              precision    recall  f1-score   support\n",
            "\n",
            "           0       0.92      0.86      0.89       366\n",
            "           1       0.89      0.94      0.92       453\n",
            "\n",
            "    accuracy                           0.91       819\n",
            "   macro avg       0.91      0.90      0.90       819\n",
            "weighted avg       0.91      0.91      0.91       819\n",
            "\n"
          ]
        }
      ]
    },
    {
      "cell_type": "code",
      "execution_count": 9,
      "metadata": {
        "id": "wvfhtttFcKf0",
        "colab": {
          "base_uri": "https://localhost:8080/"
        },
        "outputId": "5b1e09e0-0777-4949-fcd9-f3f260f452ca"
      },
      "outputs": [
        {
          "output_type": "stream",
          "name": "stdout",
          "text": [
            "torch.Size([3, 224, 224]) 0\n"
          ]
        },
        {
          "output_type": "execute_result",
          "data": {
            "text/plain": [
              "tensor([[[-0.9765, -0.9765, -0.9765,  ..., -0.9765, -0.9765, -0.9765],\n",
              "         [-0.9765, -0.9765, -0.9765,  ..., -0.9765, -0.9765, -0.9765],\n",
              "         [-0.9765, -0.9765, -0.9765,  ..., -0.9765, -0.9765, -0.9765],\n",
              "         ...,\n",
              "         [-0.9765, -0.9765, -0.9765,  ..., -0.9765, -0.9765, -0.9765],\n",
              "         [-0.9765, -0.9765, -0.9765,  ..., -0.9765, -0.9765, -0.9765],\n",
              "         [-0.9765, -0.9765, -0.9765,  ..., -0.9765, -0.9765, -0.9765]],\n",
              "\n",
              "        [[-0.9765, -0.9765, -0.9765,  ..., -0.9765, -0.9765, -0.9765],\n",
              "         [-0.9765, -0.9765, -0.9765,  ..., -0.9765, -0.9765, -0.9765],\n",
              "         [-0.9765, -0.9765, -0.9765,  ..., -0.9765, -0.9765, -0.9765],\n",
              "         ...,\n",
              "         [-0.9765, -0.9765, -0.9765,  ..., -0.9765, -0.9765, -0.9765],\n",
              "         [-0.9765, -0.9765, -0.9765,  ..., -0.9765, -0.9765, -0.9765],\n",
              "         [-0.9765, -0.9765, -0.9765,  ..., -0.9765, -0.9765, -0.9765]],\n",
              "\n",
              "        [[-0.9765, -0.9765, -0.9765,  ..., -0.9765, -0.9765, -0.9765],\n",
              "         [-0.9765, -0.9765, -0.9765,  ..., -0.9765, -0.9765, -0.9765],\n",
              "         [-0.9765, -0.9765, -0.9765,  ..., -0.9765, -0.9765, -0.9765],\n",
              "         ...,\n",
              "         [-0.9765, -0.9765, -0.9765,  ..., -0.9765, -0.9765, -0.9765],\n",
              "         [-0.9765, -0.9765, -0.9765,  ..., -0.9765, -0.9765, -0.9765],\n",
              "         [-0.9765, -0.9765, -0.9765,  ..., -0.9765, -0.9765, -0.9765]]])"
            ]
          },
          "metadata": {},
          "execution_count": 9
        }
      ],
      "source": [
        "img,label = dataset[0]\n",
        "print(img.shape,label)\n",
        "img"
      ]
    },
    {
      "cell_type": "code",
      "execution_count": 10,
      "metadata": {
        "id": "GdP_h78NcKf1",
        "colab": {
          "base_uri": "https://localhost:8080/"
        },
        "outputId": "3331ccc8-c5ce-4631-9dcb-7dcce74f61f5"
      },
      "outputs": [
        {
          "output_type": "stream",
          "name": "stdout",
          "text": [
            "['with_mask', 'without_mask']\n"
          ]
        }
      ],
      "source": [
        "print(dataset.classes)"
      ]
    },
    {
      "cell_type": "code",
      "execution_count": 11,
      "metadata": {
        "id": "fZdJmcakcKf1",
        "colab": {
          "base_uri": "https://localhost:8080/",
          "height": 470
        },
        "outputId": "935f5da1-d362-4699-c199-4d150eaf9785"
      },
      "outputs": [
        {
          "output_type": "stream",
          "name": "stderr",
          "text": [
            "WARNING:matplotlib.image:Clipping input data to the valid range for imshow with RGB data ([0..1] for floats or [0..255] for integers). Got range [-0.8666667..1.0].\n"
          ]
        },
        {
          "output_type": "stream",
          "name": "stdout",
          "text": [
            "label: with_mask (0)\n"
          ]
        },
        {
          "output_type": "display_data",
          "data": {
            "text/plain": [
              "<Figure size 640x480 with 1 Axes>"
            ],
            "image/png": "[encoded data removed]"
          },
          "metadata": {}
        }
      ],
      "source": [
        "import matplotlib.pyplot as plt\n",
        "def show_example(img,label):\n",
        "    print('label:',dataset.classes[label],\"(\"+str(label)+\")\")\n",
        "    plt.imshow(img.permute(1,2,0)) #moving the channel because matplotlib requried the first feild to be the channel\n",
        "\n",
        "show_example(*dataset[10])"
      ]
    },
    {
      "cell_type": "code",
      "execution_count": 12,
      "metadata": {
        "id": "Pa_ES1IucKf1",
        "colab": {
          "base_uri": "https://localhost:8080/"
        },
        "outputId": "b0304735-c0b3-4652-b90e-d781cd1dd905"
      },
      "outputs": [
        {
          "output_type": "execute_result",
          "data": {
            "text/plain": [
              "<torch._C.Generator at 0x7ca35227b590>"
            ]
          },
          "metadata": {},
          "execution_count": 12
        }
      ],
      "source": [
        "random_seed = 42\n",
        "torch.manual_seed(random_seed)"
      ]
    },
    {
      "cell_type": "code",
      "execution_count": 13,
      "metadata": {
        "id": "KODxcS51cKf2",
        "colab": {
          "base_uri": "https://localhost:8080/"
        },
        "outputId": "1895b085-00b8-4172-c367-42fe94b0fe45"
      },
      "outputs": [
        {
          "output_type": "stream",
          "name": "stdout",
          "text": [
            "3276 409 409\n"
          ]
        }
      ],
      "source": [
        "from torch.utils.data import random_split, DataLoader\n",
        "\n",
        "# Define split sizes\n",
        "test_size = int(0.1 * len(dataset))   # 10% for test\n",
        "val_size = int(0.1 * len(dataset))    # 10% for validation\n",
        "train_size = len(dataset) - test_size - val_size  # Remaining 80% for training\n",
        "\n",
        "# Perform the split\n",
        "train_ds, val_ds, test_ds = random_split(dataset, [train_size, val_size, test_size])\n",
        "\n",
        "# Define DataLoaders\n",
        "batch_size = 32\n",
        "# batch_size=128\n",
        "\n",
        "train_dl = DataLoader(train_ds, batch_size=batch_size, shuffle=True, num_workers=10, pin_memory=True)\n",
        "val_dl = DataLoader(val_ds, batch_size=batch_size * 2, num_workers=10, pin_memory=True)\n",
        "test_dl = DataLoader(test_ds, batch_size=batch_size * 2, num_workers=10, pin_memory=True)\n",
        "\n",
        "# Check lengths\n",
        "print(len(train_ds), len(val_ds), len(test_ds))\n"
      ]
    },
    {
      "cell_type": "code",
      "execution_count": 14,
      "metadata": {
        "id": "kKs7CtsTcKf2"
      },
      "outputs": [],
      "source": [
        "from torchvision.utils import make_grid\n",
        "\n",
        "def show_batch(dl):\n",
        "    for images,labels in dl:\n",
        "        fig,ax = plt.subplots(figsize=(12,6))\n",
        "        ax.set_xticks([]); ax.set_yticks([])\n",
        "        ax.imshow(make_grid(images,nrow=16).permute(1,2,0))\n",
        "        break"
      ]
    },
    {
      "cell_type": "code",
      "execution_count": null,
      "metadata": {
        "id": "4ZR1SGevcKf2"
      },
      "outputs": [],
      "source": [
        "# show_batch(train_dl)"
      ]
    },
    {
      "cell_type": "code",
      "execution_count": 15,
      "metadata": {
        "id": "1T3sS1pecKf2"
      },
      "outputs": [],
      "source": [
        "import torch.nn as nn\n",
        "import torch.nn.functional as F\n",
        "\n",
        "# simple_model = nn.Sequential(\n",
        "#     nn.Conv2d(3,8,kernel_size=3,stride=1,padding=1),\n",
        "#     nn.MaxPool2d(2,2)\n",
        "# )\n",
        "# for images,labels in train_dl:\n",
        "#     print('images.shape:',images.shape)\n",
        "#     out = simple_model(images)\n",
        "#     print('out.shape:',out.shape)\n",
        "#     break"
      ]
    },
    {
      "cell_type": "code",
      "execution_count": 16,
      "metadata": {
        "id": "skXIIX0UcKf2"
      },
      "outputs": [],
      "source": [
        "class ImageClassificationBase(nn.Module):\n",
        "    def training_step(self,batch):\n",
        "        images,labels = batch\n",
        "        out = self(images)\n",
        "        loss = F.cross_entropy(out,labels)\n",
        "        return loss\n",
        "    def validation_step(self,batch):\n",
        "        images,labels = batch\n",
        "        out = self(images)\n",
        "        loss = F.cross_entropy(out,labels)\n",
        "        acc = accuracy(out,labels)\n",
        "        return {'val_loss':loss.detach(),'val_acc':acc}\n",
        "    def validation_epoch_end(self,outputs):\n",
        "        batch_losses = [x['val_loss'] for x in outputs]\n",
        "        epoch_loss = torch.stack(batch_losses).mean()\n",
        "        batch_accs = [x['val_acc'] for x in outputs]\n",
        "        epoch_acc = torch.stack(batch_accs).mean()\n",
        "        return {'val_loss':epoch_loss.item(),'val_acc':epoch_acc.item()}\n",
        "    def epoch_end(self,epoch,result):\n",
        "        print(\"Epoch [{}], val_loss: {:.4f}, val_acc: {:.4f}\".format(epoch,result['val_loss'],result['val_acc']))\n",
        "\n",
        "def accuracy(outputs,labels):\n",
        "    _,preds = torch.max(outputs,dim=1)\n",
        "    return torch.tensor(torch.sum(preds==labels).item()/len(preds))\n"
      ]
    },
    {
      "cell_type": "code",
      "execution_count": 17,
      "metadata": {
        "id": "lX0U_EqscKf2"
      },
      "outputs": [],
      "source": [
        "class MyCNN(ImageClassificationBase):\n",
        "    def __init__(self):\n",
        "        super().__init__()\n",
        "        self.network = nn.Sequential(\n",
        "            nn.Conv2d(3,32,kernel_size=3,padding=1),\n",
        "            nn.ReLU(),\n",
        "            # nn.GELU(),\n",
        "            nn.Conv2d(32,64,kernel_size=3,stride=1,padding=1),\n",
        "            nn.ReLU(),\n",
        "            # nn.GELU(),\n",
        "            nn.MaxPool2d(2,2), #output: 64 x 16 x 16\n",
        "            nn.Conv2d(64,128,kernel_size=3,stride=1,padding=1),\n",
        "            nn.ReLU(),\n",
        "            # nn.GELU(),\n",
        "            nn.Conv2d(128,128,kernel_size=3,stride=1,padding=1),\n",
        "            nn.ReLU(),\n",
        "            # nn.GELU(),\n",
        "            nn.MaxPool2d(2,2), #output: 128 x 8 x 8\n",
        "            nn.Conv2d(128,256,kernel_size=3,stride=1,padding=1),\n",
        "            nn.ReLU(),\n",
        "            # nn.GELU(),\n",
        "            nn.Conv2d(256,256,kernel_size=3,stride=1,padding=1),\n",
        "            nn.ReLU(),\n",
        "            # nn.GELU(),\n",
        "            nn.MaxPool2d(2,2), #output: 256 x 4 x 4\n",
        "            nn.Flatten(),\n",
        "            nn.Linear(256*28*28,1024),\n",
        "            nn.ReLU(),\n",
        "            # nn.GELU(),\n",
        "            nn.Linear(1024,512),\n",
        "            nn.ReLU(),\n",
        "            # nn.GELU(),\n",
        "            nn.Linear(512,2)\n",
        "\n",
        "        )\n",
        "    def forward(self,xb):\n",
        "        return self.network(xb)"
      ]
    },
    {
      "cell_type": "code",
      "execution_count": 18,
      "metadata": {
        "id": "8ge3A2jucKf3"
      },
      "outputs": [],
      "source": [
        "model  = MyCNN()"
      ]
    },
    {
      "cell_type": "code",
      "execution_count": 19,
      "metadata": {
        "id": "8waGwyjUcKf3"
      },
      "outputs": [],
      "source": [
        "def get_default_device():\n",
        "    if torch.cuda.is_available():\n",
        "        return torch.device('cuda')\n",
        "    else:\n",
        "        return torch.device('cpu')\n",
        "def to_device(data,device):\n",
        "    if isinstance(data,(list,tuple)):\n",
        "        return [to_device(x,device) for x in data]\n",
        "    return data.to(device,non_blocking=True)\n",
        "\n",
        "class DeviceDataLoader():\n",
        "    def __init__(self,dl,device):\n",
        "        self.dl = dl\n",
        "        self.device = device\n",
        "    def __iter__(self):\n",
        "        for b in self.dl:\n",
        "            yield to_device(b,self.device)\n",
        "    def __len__(self):\n",
        "        return len(self.dl)"
      ]
    },
    {
      "cell_type": "code",
      "execution_count": 20,
      "metadata": {
        "id": "nLQQ_YkTcKf3",
        "colab": {
          "base_uri": "https://localhost:8080/"
        },
        "outputId": "dcfdae9f-9cfa-4071-f348-5971bc87b586"
      },
      "outputs": [
        {
          "output_type": "execute_result",
          "data": {
            "text/plain": [
              "device(type='cuda')"
            ]
          },
          "metadata": {},
          "execution_count": 20
        }
      ],
      "source": [
        "device = get_default_device()\n",
        "device"
      ]
    },
    {
      "cell_type": "code",
      "execution_count": 21,
      "metadata": {
        "id": "QbPkf_dpcKf3",
        "colab": {
          "base_uri": "https://localhost:8080/"
        },
        "outputId": "d47c824a-dd9b-4a09-e1de-32bcf74fa5eb"
      },
      "outputs": [
        {
          "output_type": "execute_result",
          "data": {
            "text/plain": [
              "MyCNN(\n",
              "  (network): Sequential(\n",
              "    (0): Conv2d(3, 32, kernel_size=(3, 3), stride=(1, 1), padding=(1, 1))\n",
              "    (1): ReLU()\n",
              "    (2): Conv2d(32, 64, kernel_size=(3, 3), stride=(1, 1), padding=(1, 1))\n",
              "    (3): ReLU()\n",
              "    (4): MaxPool2d(kernel_size=2, stride=2, padding=0, dilation=1, ceil_mode=False)\n",
              "    (5): Conv2d(64, 128, kernel_size=(3, 3), stride=(1, 1), padding=(1, 1))\n",
              "    (6): ReLU()\n",
              "    (7): Conv2d(128, 128, kernel_size=(3, 3), stride=(1, 1), padding=(1, 1))\n",
              "    (8): ReLU()\n",
              "    (9): MaxPool2d(kernel_size=2, stride=2, padding=0, dilation=1, ceil_mode=False)\n",
              "    (10): Conv2d(128, 256, kernel_size=(3, 3), stride=(1, 1), padding=(1, 1))\n",
              "    (11): ReLU()\n",
              "    (12): Conv2d(256, 256, kernel_size=(3, 3), stride=(1, 1), padding=(1, 1))\n",
              "    (13): ReLU()\n",
              "    (14): MaxPool2d(kernel_size=2, stride=2, padding=0, dilation=1, ceil_mode=False)\n",
              "    (15): Flatten(start_dim=1, end_dim=-1)\n",
              "    (16): Linear(in_features=200704, out_features=1024, bias=True)\n",
              "    (17): ReLU()\n",
              "    (18): Linear(in_features=1024, out_features=512, bias=True)\n",
              "    (19): ReLU()\n",
              "    (20): Linear(in_features=512, out_features=2, bias=True)\n",
              "  )\n",
              ")"
            ]
          },
          "metadata": {},
          "execution_count": 21
        }
      ],
      "source": [
        "train_dl = DeviceDataLoader(train_dl,device)\n",
        "val_dl = DeviceDataLoader(val_dl,device)\n",
        "test_dl = DeviceDataLoader(test_dl,device)\n",
        "to_device(model,device)\n"
      ]
    },
    {
      "cell_type": "markdown",
      "metadata": {
        "id": "oVP4JFNacKf3"
      },
      "source": [
        "Training the Model\n"
      ]
    },
    {
      "cell_type": "code",
      "execution_count": 22,
      "metadata": {
        "id": "eLBbe6t4cKf3"
      },
      "outputs": [],
      "source": [
        "from matplotlib.pyplot import hist\n",
        "\n",
        "\n",
        "@torch.no_grad()\n",
        "def evaluate(model,val_loader):\n",
        "    model.eval()\n",
        "    outputs = [model.validation_step(batch) for batch in val_loader]\n",
        "    return model.validation_epoch_end(outputs)\n",
        "\n",
        "def fit(epochs,lr,model,train_loader,val_loader,opt_func):\n",
        "    history = []\n",
        "    optimizer = opt_func(model.parameters(),lr)\n",
        "    for epoch in range(epochs):\n",
        "        model.train()\n",
        "        train_losses = []\n",
        "        for batch in train_loader:\n",
        "            loss = model.training_step(batch)\n",
        "            train_losses.append(loss)\n",
        "            loss.backward()\n",
        "            optimizer.step()\n",
        "            optimizer.zero_grad()\n",
        "        result = evaluate(model,val_loader)\n",
        "        result['train_loss'] = torch.stack(train_losses).mean().item()\n",
        "        model.epoch_end(epoch,result)\n",
        "        history.append(result)\n",
        "    return history"
      ]
    },
    {
      "cell_type": "code",
      "execution_count": 23,
      "metadata": {
        "id": "dHLDjW7rcKf3"
      },
      "outputs": [],
      "source": [
        "model = to_device(MyCNN(),device)\n"
      ]
    },
    {
      "cell_type": "code",
      "execution_count": 24,
      "metadata": {
        "id": "9YIg-X0ucKf4",
        "colab": {
          "base_uri": "https://localhost:8080/"
        },
        "outputId": "e4fe4aac-6520-44b0-dae6-c0091ebb7221"
      },
      "outputs": [
        {
          "output_type": "execute_result",
          "data": {
            "text/plain": [
              "{'val_loss': 0.6938956379890442, 'val_acc': 0.48026785254478455}"
            ]
          },
          "metadata": {},
          "execution_count": 24
        }
      ],
      "source": [
        "evaluate(model,val_dl)"
      ]
    },
    {
      "cell_type": "code",
      "execution_count": 29,
      "metadata": {
        "id": "mWLX6t82cKf4"
      },
      "outputs": [],
      "source": [
        "num_epochs = 10\n",
        "opt_func = torch.optim.Adam\n",
        "lr=0.0001"
      ]
    },
    {
      "cell_type": "code",
      "source": [
        "history = fit(num_epochs,lr,model,train_dl,val_dl,opt_func)"
      ],
      "metadata": {
        "id": "zkI3QDedp12-",
        "colab": {
          "base_uri": "https://localhost:8080/"
        },
        "outputId": "04e9a1fd-88ad-4e9a-9398-062e8d590e52"
      },
      "execution_count": 30,
      "outputs": [
        {
          "output_type": "stream",
          "name": "stdout",
          "text": [
            "Epoch [0], val_loss: 0.1186, val_acc: 0.9697\n",
            "Epoch [1], val_loss: 0.1577, val_acc: 0.9586\n",
            "Epoch [2], val_loss: 0.1217, val_acc: 0.9573\n",
            "Epoch [3], val_loss: 0.1904, val_acc: 0.9563\n",
            "Epoch [4], val_loss: 0.1759, val_acc: 0.9663\n",
            "Epoch [5], val_loss: 0.1229, val_acc: 0.9640\n",
            "Epoch [6], val_loss: 0.1884, val_acc: 0.9618\n",
            "Epoch [7], val_loss: 0.1507, val_acc: 0.9618\n",
            "Epoch [8], val_loss: 0.1720, val_acc: 0.9653\n",
            "Epoch [9], val_loss: 0.1279, val_acc: 0.9707\n"
          ]
        }
      ]
    },
    {
      "cell_type": "code",
      "source": [
        "test_loader = DeviceDataLoader(test_dl,device)\n",
        "result = evaluate(model,test_loader)\n",
        "result"
      ],
      "metadata": {
        "id": "xbc0Wczmp-Dd",
        "colab": {
          "base_uri": "https://localhost:8080/"
        },
        "outputId": "fa699b37-b6d8-48fa-c72e-fc9c0e196490"
      },
      "execution_count": 31,
      "outputs": [
        {
          "output_type": "execute_result",
          "data": {
            "text/plain": [
              "{'val_loss': 0.07818231731653214, 'val_acc': 0.9776785969734192}"
            ]
          },
          "metadata": {},
          "execution_count": 31
        }
      ]
    }
  ],
  "metadata": {
    "kernelspec": {
      "display_name": "Python 3",
      "name": "python3"
    },
    "language_info": {
      "codemirror_mode": {
        "name": "ipython",
        "version": 3
      },
      "file_extension": ".py",
      "mimetype": "text/x-python",
      "name": "python",
      "nbconvert_exporter": "python",
      "pygments_lexer": "ipython3",
      "version": "3.10.16"
    },
    "colab": {
      "provenance": [],
      "gpuType": "T4"
    },
    "accelerator": "GPU"
  },
  "nbformat": 4,
  "nbformat_minor": 0
}